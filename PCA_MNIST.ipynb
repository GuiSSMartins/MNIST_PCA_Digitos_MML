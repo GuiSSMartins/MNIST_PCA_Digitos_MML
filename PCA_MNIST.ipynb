{
 "cells": [
  {
   "cell_type": "markdown",
   "metadata": {},
   "source": [
    "## Mini-Projeto 2023 - 3.1 \"Aplicação do PCA em reconhecimento de dígitos\"\n",
    "### Grupo 4\n",
    "- Gabriella Lima, pg54401\n",
    "- Guilherme Martins,  pg52214\n",
    "- Maria Laires, pg52220\n",
    "- Matheus Ribeiro, pg52254\n",
    "### Métricas em Machine Learning - Metrado em Matemática e Computação\n",
    "#### Ano letivo 2023-24  ;  1º semestre - 1º ano \n",
    "\n",
    "A base de dados MNIST foi acedida a partir do website \"WayBack Machine\" (registo Março de 2022) através do link: https://web.archive.org/web/20220331130319/https://yann.lecun.com/exdb/mnist/  ,  no dia 20 de dezembro de 2023"
   ]
  },
  {
   "cell_type": "markdown",
   "metadata": {},
   "source": [
    "- Leitura das imagens de treino"
   ]
  },
  {
   "cell_type": "code",
   "execution_count": 461,
   "metadata": {
    "scrolled": true
   },
   "outputs": [],
   "source": [
    "import numpy as np\n",
    "import idx2numpy\n",
    "import matplotlib.pyplot as plt\n",
    "\n",
    "imagefile = 'mnist_database/train-images.idx3-ubyte'\n",
    "imagearray = idx2numpy.convert_from_file(imagefile)\n",
    "size = len(imagearray) # nº de imagens para processar\n",
    "\n",
    "X = [] # novo repositório das imagens\n",
    "\n",
    "for i in range(0,size):\n",
    "    aux = imagearray[i].flatten() # transformar cada imagem (matriz) num array simples (linear)\n",
    "    X.append(aux)\n",
    "    \n",
    "# apenas um exemplo\n",
    "# plt.imshow(np.reshape(X[100], (28,28)), cmap=plt.cm.binary)\n",
    "\n",
    "labelfile = 'mnist_database/train-labels.idx1-ubyte'\n",
    "labelarray = idx2numpy.convert_from_file(labelfile)"
   ]
  },
  {
   "cell_type": "code",
   "execution_count": 462,
   "metadata": {},
   "outputs": [
    {
     "name": "stdout",
     "output_type": "stream",
     "text": [
      "Distribuição das Labels: 0: 5923 ; 1: 6742 ; 2: 5958 ; 3: 6131 ; 4: 5842\n",
      " ; 5: 5421 ; 6: 5918 ; 7: 6265 ; 8: 5851 ; 9: 5949\n"
     ]
    }
   ],
   "source": [
    "# Organizar as imagens por dígito\n",
    "\n",
    "X_digito = [[],[],[],[],[],[],[],[],[],[]]\n",
    "\n",
    "for i in range(0,len(X)):\n",
    "    n = labelarray[i] \n",
    "    X_digito[n].append(X[i])\n",
    " \n",
    "\n",
    "print(\"Distribuição das Labels: 0: \"+str(len(X_digito[0]))+\" ; 1: \"+str(len(X_digito[1]))+\" ; 2: \"+str(len(X_digito[2]))+\" ; 3: \"+str(len(X_digito[3]))+\" ; 4: \"+str(len(X_digito[4])))\n",
    "print(\" ; 5: \"+str(len(X_digito[5]))+\" ; 6: \"+str(len(X_digito[6]))+\" ; 7: \"+str(len(X_digito[7]))+\" ; 8: \"+str(len(X_digito[8]))+\" ; 9: \"+str(len(X_digito[9])))\n",
    "\n",
    "# Gráfico que mostra que cada número aparece aproximadamente igual a 6000 vezes\n",
    "counts = [len(X_digito[0]), len(X_digito[1]), len(X_digito[2]), len(X_digito[3]), len(X_digito[4]), len(X_digito[5]), len(X_digito[6]), len(X_digito[7]), len(X_digito[8]), len(X_digito[9])]\n",
    "labels = [0,1,2,3,4,5,6,7,8,9]\n",
    "# plt.bar(labels, counts)\n",
    "# plt.show()"
   ]
  },
  {
   "cell_type": "markdown",
   "metadata": {},
   "source": [
    " - Exemplos de imagens para cada um dos dígitos"
   ]
  },
  {
   "cell_type": "code",
   "execution_count": 463,
   "metadata": {},
   "outputs": [],
   "source": [
    "# exemplo de imagem dígito 0\n",
    "# plt.imshow(np.reshape(X_digito[0][0], (28,28)), cmap=plt.cm.binary)"
   ]
  },
  {
   "cell_type": "code",
   "execution_count": 464,
   "metadata": {},
   "outputs": [],
   "source": [
    "# exemplo de imagem dígito 1\n",
    "# plt.imshow(np.reshape(X_digito[1][0], (28,28)), cmap=plt.cm.binary)"
   ]
  },
  {
   "cell_type": "code",
   "execution_count": 465,
   "metadata": {},
   "outputs": [],
   "source": [
    "# exemplo de imagem dígito 2\n",
    "# plt.imshow(np.reshape(X_digito[2][0], (28,28)), cmap=plt.cm.binary)"
   ]
  },
  {
   "cell_type": "code",
   "execution_count": 466,
   "metadata": {},
   "outputs": [],
   "source": [
    "# exemplo de imagem dígito 3\n",
    "# plt.imshow(np.reshape(X_digito[3][0], (28,28)), cmap=plt.cm.binary)"
   ]
  },
  {
   "cell_type": "code",
   "execution_count": 467,
   "metadata": {},
   "outputs": [],
   "source": [
    "# exemplo de imagem dígito 4\n",
    "# plt.imshow(np.reshape(X_digito[4][0], (28,28)), cmap=plt.cm.binary)"
   ]
  },
  {
   "cell_type": "code",
   "execution_count": 468,
   "metadata": {},
   "outputs": [],
   "source": [
    "# exemplo de imagem dígito 5\n",
    "# plt.imshow(np.reshape(X_digito[5][0], (28,28)), cmap=plt.cm.binary)"
   ]
  },
  {
   "cell_type": "code",
   "execution_count": 469,
   "metadata": {},
   "outputs": [],
   "source": [
    "# exemplo de imagem dígito 6\n",
    "# plt.imshow(np.reshape(X_digito[6][0], (28,28)), cmap=plt.cm.binary)"
   ]
  },
  {
   "cell_type": "code",
   "execution_count": 470,
   "metadata": {},
   "outputs": [],
   "source": [
    "# exemplo de imagem dígito 7\n",
    "# plt.imshow(np.reshape(X_digito[7][0], (28,28)), cmap=plt.cm.binary)"
   ]
  },
  {
   "cell_type": "code",
   "execution_count": 471,
   "metadata": {},
   "outputs": [],
   "source": [
    "# exemplo de imagem dígito 8\n",
    "# plt.imshow(np.reshape(X_digito[8][0], (28,28)), cmap=plt.cm.binary)"
   ]
  },
  {
   "cell_type": "code",
   "execution_count": 472,
   "metadata": {},
   "outputs": [],
   "source": [
    "# exemplo de imagem dígito 9\n",
    "# plt.imshow(np.reshape(X_digito[9][0], (28,28)), cmap=plt.cm.binary)"
   ]
  },
  {
   "cell_type": "code",
   "execution_count": 473,
   "metadata": {
    "scrolled": true
   },
   "outputs": [],
   "source": [
    "# Implementação do PCA\n",
    "# Obter os vetores próprios das componentes principais de acordo com um certo nivel de confianca\n",
    "def pca(X, confianca_alvo):\n",
    "    # Media de todas as imagens\n",
    "    media = np.mean(X, 0)\n",
    "    \n",
    "    # Centralizar os dados\n",
    "    phi = X - media\n",
    "    \n",
    "    # Calcular os vetores e valores proprios atraves do SVD\n",
    "    vet_prop, sigma, v = np.linalg.svd(phi.transpose(), full_matrices=False) # v = variância\n",
    "    val_prop = sigma*sigma\n",
    "    \n",
    "    # Ordenar valores próprios por ordem Decrescente\n",
    "    idx = np.argsort(-val_prop)\n",
    "    val_prop = val_prop[idx]\n",
    "    vet_prop = vet_prop[:,idx]\n",
    "    \n",
    "    # Determinar o nº de vetores próprios a usar de acordo com a confiança-alvo\n",
    "    k = 0\n",
    "    traco = np.sum(val_prop)\n",
    "    confianca = 0\n",
    "    while(confianca < confianca_alvo):\n",
    "        confianca = np.sum(val_prop[:k])/traco\n",
    "        k = k+1\n",
    "    \n",
    "    # Escolher os vetores próprios associados às componentes principais\n",
    "    vet_prop = vet_prop[:,0:k]\n",
    "    return k, val_prop, vet_prop, phi, media, v, confianca"
   ]
  },
  {
   "cell_type": "code",
   "execution_count": 474,
   "metadata": {},
   "outputs": [],
   "source": [
    "# Exemplo para o dígito 0\n",
    "k_0, val_prop_0, vet_prop_0, phi_0, media_0, v_0, confianca_0 = pca(X_digito[0], 0.9)\n",
    "\n",
    "# plt.imshow(np.reshape(media_0, (28,28)), cmap=plt.cm.binary) # visualização da imagem média do dígito\n",
    "\n",
    "# #len(vet_prop_0)\n",
    "# len(vet_prop_0[0])\n",
    "# #len(val_prop_0[0])\n",
    "# #val_prop_0[0]"
   ]
  },
  {
   "cell_type": "code",
   "execution_count": 475,
   "metadata": {},
   "outputs": [],
   "source": [
    "# # Exemplo resultante de um vetores próprios / uma das componentes principais da imagem\n",
    "# plt.imshow(np.reshape(vet_prop_0.T[0], (28,28)), cmap=plt.cm.binary) # visualização da imagem média do dígito"
   ]
  },
  {
   "cell_type": "code",
   "execution_count": 476,
   "metadata": {},
   "outputs": [],
   "source": [
    "coef_proj = [[],[],[],[],[],[],[],[],[],[]]\n",
    "\n",
    "# Calculo dos coeficientes da projecao\n",
    "def coefProj(phi, vet_prop, size):\n",
    "    coef_proj = [np.dot(phi[i], vet_prop) for i in range(size)]\n",
    "    return coef_proj\n",
    "\n",
    "# Obter os coeficientes das projecoes (para o dígito 0)\n",
    "coef_proj[0] = coefProj(phi_0, vet_prop_0, len(X_digito[0]))\n",
    "# coef_proj[0]"
   ]
  },
  {
   "cell_type": "markdown",
   "metadata": {},
   "source": [
    "#### Elbow Method (Método do Cotovelo)\n",
    "\n",
    "Método Heurístico para verificar se o valor da confiança-alvo foi adequada para a conservação da informação"
   ]
  },
  {
   "cell_type": "code",
   "execution_count": 477,
   "metadata": {},
   "outputs": [],
   "source": [
    "# # Gráfico do Método do cotovelo\n",
    "# plt.figure(figsize=(10,10))\n",
    "# t = np.arange(0, len(val_prop_0), 1)\n",
    "# plt.plot(t, val_prop_0, 'x')\n",
    "# plt.plot(k_0, val_prop_0[k_0], 'o')\n",
    "# plt.show()"
   ]
  },
  {
   "cell_type": "markdown",
   "metadata": {},
   "source": [
    "## Aplicação do PCA nos restantes dígitos [1..9]"
   ]
  },
  {
   "cell_type": "code",
   "execution_count": 478,
   "metadata": {},
   "outputs": [],
   "source": [
    "k_1, val_prop_1, vet_prop_1, phi_1, media_1, v_1, confianca_1 = pca(X_digito[1], 0.9)\n",
    "k_2, val_prop_2, vet_prop_2, phi_2, media_2, v_2, confianca_2 = pca(X_digito[2], 0.9)\n",
    "k_3, val_prop_3, vet_prop_3, phi_3, media_3, v_3, confianca_3 = pca(X_digito[3], 0.9)\n",
    "k_4, val_prop_4, vet_prop_4, phi_4, media_4, v_4, confianca_4 = pca(X_digito[4], 0.9)\n",
    "k_5, val_prop_5, vet_prop_5, phi_5, media_5, v_5, confianca_5 = pca(X_digito[5], 0.9)\n",
    "k_6, val_prop_6, vet_prop_6, phi_6, media_6, v_6, confianca_6 = pca(X_digito[6], 0.9)\n",
    "k_7, val_prop_7, vet_prop_7, phi_7, media_7, v_7, confianca_7 = pca(X_digito[7], 0.9)\n",
    "k_8, val_prop_8, vet_prop_8, phi_8, media_8, v_8, confianca_8 = pca(X_digito[8], 0.9)\n",
    "k_9, val_prop_9, vet_prop_9, phi_9, media_9, v_9, confianca_9 = pca(X_digito[9], 0.9)\n",
    "\n",
    "# Juntar todos os resultados\n",
    "k_digito = [k_0, k_1, k_2, k_3, k_4, k_5, k_6, k_7, k_8, k_9]\n",
    "val_prop_digito = [val_prop_0, val_prop_1, val_prop_2, val_prop_3, val_prop_4, val_prop_5, val_prop_6, val_prop_7, val_prop_8, val_prop_9]\n",
    "vet_prop_digito = [vet_prop_0, vet_prop_1, vet_prop_2, vet_prop_3, vet_prop_4, vet_prop_5, vet_prop_6, vet_prop_7, vet_prop_8, vet_prop_9]\n",
    "phi_digito = [phi_0, phi_1, phi_2, phi_3, phi_4, phi_5, phi_6, phi_7, phi_8, phi_9]\n",
    "media_digito = [media_0, media_1, media_2, media_3, media_4, media_5, media_6, media_7, media_8, media_9]\n",
    "v_digito = [v_0, v_1, v_2, v_3, v_4, v_5, v_6, v_7, v_8, v_9]\n",
    "confianca_digito = [confianca_0, confianca_1, confianca_2, confianca_3, confianca_4, confianca_5, confianca_6, confianca_7, confianca_8, confianca_9]"
   ]
  },
  {
   "cell_type": "markdown",
   "metadata": {},
   "source": [
    "Número de valores próprios para cada modelo de dígito"
   ]
  },
  {
   "cell_type": "code",
   "execution_count": 479,
   "metadata": {
    "scrolled": true
   },
   "outputs": [
    {
     "data": {
      "text/plain": [
       "[63, 37, 82, 81, 77, 76, 63, 67, 83, 63]"
      ]
     },
     "execution_count": 479,
     "metadata": {},
     "output_type": "execute_result"
    }
   ],
   "source": [
    "k_digito"
   ]
  },
  {
   "cell_type": "code",
   "execution_count": 480,
   "metadata": {},
   "outputs": [],
   "source": [
    "# plt.imshow(np.reshape(media_1, (28,28)), cmap=plt.cm.binary) # visualização da imagem média do dígito"
   ]
  },
  {
   "cell_type": "code",
   "execution_count": 481,
   "metadata": {},
   "outputs": [],
   "source": [
    "# plt.imshow(np.reshape(media_2, (28,28)), cmap=plt.cm.binary) # visualização da imagem média do dígito"
   ]
  },
  {
   "cell_type": "code",
   "execution_count": 482,
   "metadata": {},
   "outputs": [],
   "source": [
    "# plt.imshow(np.reshape(media_3, (28,28)), cmap=plt.cm.binary) # visualização da imagem média do dígito"
   ]
  },
  {
   "cell_type": "code",
   "execution_count": 483,
   "metadata": {},
   "outputs": [],
   "source": [
    "# plt.imshow(np.reshape(media_4, (28,28)), cmap=plt.cm.binary) # visualização da imagem média do dígito"
   ]
  },
  {
   "cell_type": "code",
   "execution_count": 484,
   "metadata": {},
   "outputs": [],
   "source": [
    "# plt.imshow(np.reshape(media_5, (28,28)), cmap=plt.cm.binary) # visualização da imagem média do dígito"
   ]
  },
  {
   "cell_type": "code",
   "execution_count": 485,
   "metadata": {},
   "outputs": [],
   "source": [
    "# plt.imshow(np.reshape(media_6, (28,28)), cmap=plt.cm.binary) # visualização da imagem média do dígito"
   ]
  },
  {
   "cell_type": "code",
   "execution_count": 486,
   "metadata": {},
   "outputs": [],
   "source": [
    "# plt.imshow(np.reshape(media_7, (28,28)), cmap=plt.cm.binary) # visualização da imagem média do dígito"
   ]
  },
  {
   "cell_type": "code",
   "execution_count": 487,
   "metadata": {},
   "outputs": [],
   "source": [
    "# plt.imshow(np.reshape(media_8, (28,28)), cmap=plt.cm.binary) # visualização da imagem média do dígito"
   ]
  },
  {
   "cell_type": "code",
   "execution_count": 488,
   "metadata": {},
   "outputs": [],
   "source": [
    "# plt.imshow(np.reshape(media_9, (28,28)), cmap=plt.cm.binary) # visualização da imagem média do dígito"
   ]
  },
  {
   "cell_type": "code",
   "execution_count": 489,
   "metadata": {},
   "outputs": [],
   "source": [
    "# plt.figure(figsize=(10,10))\n",
    "# t = np.arange(0, len(val_prop_1), 1)\n",
    "# plt.plot(t, val_prop_1, 'x')\n",
    "# plt.plot(k_1, val_prop_1[k_1], 'o')\n",
    "# plt.show()"
   ]
  },
  {
   "cell_type": "code",
   "execution_count": 490,
   "metadata": {},
   "outputs": [],
   "source": [
    "# plt.figure(figsize=(10,10))\n",
    "# t = np.arange(0, len(val_prop_2), 1)\n",
    "# plt.plot(t, val_prop_2, 'x')\n",
    "# plt.plot(k_2, val_prop_2[k_2], 'o')\n",
    "# plt.show()"
   ]
  },
  {
   "cell_type": "code",
   "execution_count": 491,
   "metadata": {},
   "outputs": [],
   "source": [
    "# plt.figure(figsize=(10,10))\n",
    "# t = np.arange(0, len(val_prop_3), 1)\n",
    "# plt.plot(t, val_prop_3, 'x')\n",
    "# plt.plot(k_3, val_prop_3[k_3], 'o')\n",
    "# plt.show()"
   ]
  },
  {
   "cell_type": "code",
   "execution_count": 492,
   "metadata": {},
   "outputs": [],
   "source": [
    "# plt.figure(figsize=(10,10))\n",
    "# t = np.arange(0, len(val_prop_4), 1)\n",
    "# plt.plot(t, val_prop_4, 'x')\n",
    "# plt.plot(k_4, val_prop_4[k_4], 'o')\n",
    "# plt.show()"
   ]
  },
  {
   "cell_type": "code",
   "execution_count": 493,
   "metadata": {},
   "outputs": [],
   "source": [
    "# plt.figure(figsize=(10,10))\n",
    "# t = np.arange(0, len(val_prop_5), 1)\n",
    "# plt.plot(t, val_prop_5, 'x')\n",
    "# plt.plot(k_5, val_prop_5[k_5], 'o')\n",
    "# plt.show()"
   ]
  },
  {
   "cell_type": "code",
   "execution_count": 494,
   "metadata": {},
   "outputs": [],
   "source": [
    "# plt.figure(figsize=(10,10))\n",
    "# t = np.arange(0, len(val_prop_6), 1)\n",
    "# plt.plot(t, val_prop_6, 'x')\n",
    "# plt.plot(k_6, val_prop_6[k_6], 'o')\n",
    "# plt.show()"
   ]
  },
  {
   "cell_type": "code",
   "execution_count": 495,
   "metadata": {},
   "outputs": [],
   "source": [
    "# plt.figure(figsize=(10,10))\n",
    "# t = np.arange(0, len(val_prop_7), 1)\n",
    "# plt.plot(t, val_prop_7, 'x')\n",
    "# plt.plot(k_7, val_prop_7[k_7], 'o')\n",
    "# plt.show()"
   ]
  },
  {
   "cell_type": "code",
   "execution_count": 496,
   "metadata": {
    "scrolled": false
   },
   "outputs": [],
   "source": [
    "# plt.figure(figsize=(10,10))\n",
    "# t = np.arange(0, len(val_prop_8), 1)\n",
    "# plt.plot(t, val_prop_8, 'x')\n",
    "# plt.plot(k_8, val_prop_8[k_8], 'o')\n",
    "# plt.show()"
   ]
  },
  {
   "cell_type": "code",
   "execution_count": 497,
   "metadata": {},
   "outputs": [],
   "source": [
    "# plt.figure(figsize=(10,10))\n",
    "# t = np.arange(0, len(val_prop_9), 1)\n",
    "# plt.plot(t, val_prop_9, 'x')\n",
    "# plt.plot(k_9, val_prop_9[k_9], 'o')\n",
    "# plt.show()"
   ]
  },
  {
   "cell_type": "markdown",
   "metadata": {},
   "source": [
    "### Cálculo dos coeficientes de projeção para os dígitos restantes [1..9]"
   ]
  },
  {
   "cell_type": "code",
   "execution_count": 498,
   "metadata": {},
   "outputs": [],
   "source": [
    "for num in range(1,10):\n",
    "    coef_proj[num] = coefProj(phi_digito[num], vet_prop_digito[num], len(X_digito[num]))"
   ]
  },
  {
   "cell_type": "markdown",
   "metadata": {},
   "source": [
    "### Preparação para os Testes"
   ]
  },
  {
   "cell_type": "markdown",
   "metadata": {},
   "source": [
    "Funções úteis para os testes do modelo construído"
   ]
  },
  {
   "cell_type": "code",
   "execution_count": 499,
   "metadata": {},
   "outputs": [],
   "source": [
    "import math\n",
    "\n",
    "# Distancia euclidiana\n",
    "def euclidiana(x, y):\n",
    "    distancia = np.linalg.norm(x - y)\n",
    "    return distancia\n",
    "\n",
    "# Distance de Mahalanobis (distância euclidiana normalizada)\n",
    "def mahalanobis(x, y, val_prop, k):\n",
    "    distancia = np.sum(np.divide((x - y) ** 2, val_prop[:k]))\n",
    "    return distancia"
   ]
  },
  {
   "cell_type": "code",
   "execution_count": 500,
   "metadata": {},
   "outputs": [],
   "source": [
    "def test_coef_proj(gamma, media, vet_prop):\n",
    "    test_phi = gamma - media # Centralizar os dados de gamma\n",
    "    \n",
    "    # Calcular os coeficientes de projeção \n",
    "    test_coef_proj = np.dot(test_phi, vet_prop)\n",
    "    return test_coef_proj\n",
    "\n",
    "def dist_min_euclidiana(test_coef_proj, size, coef_proj):\n",
    "    dist = [euclidiana(coef_proj[i], test_coef_proj) for i in range (size)]\n",
    "    dist_min = np.min(dist)\n",
    "    return dist_min\n",
    "\n",
    "def dist_min_mahalanobis(test_coef_proj, val_prop, size, coef_proj, k):\n",
    "    dist = [mahalanobis(coef_proj[i], test_coef_proj, val_prop, k) for i in range (size)]\n",
    "    dist_min = np.min(dist)\n",
    "    return dist_min"
   ]
  },
  {
   "cell_type": "markdown",
   "metadata": {},
   "source": [
    "### Pré-estudo do dataset de teste"
   ]
  },
  {
   "cell_type": "code",
   "execution_count": 501,
   "metadata": {},
   "outputs": [
    {
     "name": "stdout",
     "output_type": "stream",
     "text": [
      "Tudo certo (só existem dígitos dentro do intervalo [0,1..9])\n"
     ]
    }
   ],
   "source": [
    "# 10 mil imagens de dígitos para teste\n",
    "image_test_file = 'mnist_database/t10k-images.idx3-ubyte'\n",
    "image_test_array = idx2numpy.convert_from_file(image_test_file)\n",
    "\n",
    "gamma = [] # novo repositório das imagens de teste\n",
    "\n",
    "for i in range(0,len(image_test_array)):\n",
    "    aux = image_test_array[i].flatten() # transformar cada imagem (matriz) num array simples (linear)\n",
    "    gamma.append(aux)\n",
    "\n",
    "label_test_file = 'mnist_database/t10k-labels.idx1-ubyte'\n",
    "label_test_array = idx2numpy.convert_from_file(label_test_file)\n",
    "\n",
    "if not [label for label in label_test_array if label in [0,1,2,3,4,5,6,7,8,9]]:\n",
    "    print(\"Existem dígitos diferentes de [0,1..9]\")\n",
    "else:\n",
    "    print(\"Tudo certo (só existem dígitos dentro do intervalo [0,1..9])\")"
   ]
  },
  {
   "cell_type": "markdown",
   "metadata": {},
   "source": [
    "Como no dataset de teste todas as imagens são obrigatoriamente dígitos, então decidiu-se reduzir o estudo do modelo construído para reconhecimento de dígitos para estudar o dígito que fornece menor distância entre os coeficientes das projeções com os de teste da imagem atual; em vez de se estudar o reconheciemnto de um dígito pela comparação da distância com um limite / limiar de similaridade (que pode produzir resultados inválidos, já que o limite depende de quem constroi o programa e das métricas utilizadas)."
   ]
  },
  {
   "cell_type": "code",
   "execution_count": 502,
   "metadata": {},
   "outputs": [],
   "source": [
    "number_labels = [0,0,0,0,0,0,0,0,0,0]\n",
    "\n",
    "for n in range(0,10000):\n",
    "    digito = label_test_array[n]\n",
    "    number_labels[digito] = number_labels[digito] + 1\n",
    "    \n",
    "# plt.bar([0,1,2,3,4,5,6,7,8,9], number_labels)\n",
    "# plt.show()"
   ]
  },
  {
   "cell_type": "code",
   "execution_count": 503,
   "metadata": {},
   "outputs": [
    {
     "data": {
      "text/plain": [
       "[980, 1135, 1032, 1010, 982, 892, 958, 1028, 974, 1009]"
      ]
     },
     "execution_count": 503,
     "metadata": {},
     "output_type": "execute_result"
    }
   ],
   "source": [
    "number_labels"
   ]
  },
  {
   "cell_type": "markdown",
   "metadata": {},
   "source": [
    "### Testes - Distância Euclidiana"
   ]
  },
  {
   "cell_type": "code",
   "execution_count": 504,
   "metadata": {},
   "outputs": [],
   "source": [
    "# devolve o dígito reconhecido pela imagem, comparando com todas as distâncias das projeções para os 10 digítos possíveis\n",
    "def testar_imagem_euclidiana(imagem):\n",
    "    dist_min_digito = [0,0,0,0,0,0,0,0,0,0]\n",
    "    for dig in range(0,10):\n",
    "        test_phi = imagem - media_digito[dig] # Centralizar os dados de gamma\n",
    "    \n",
    "        # Calcular os coeficientes de projeção \n",
    "        test_coef_proj = np.dot(test_phi, vet_prop_digito[dig])\n",
    "        \n",
    "        dist_min_digito[dig] = dist_min_euclidiana(test_coef_proj, len(coef_proj[dig]), coef_proj[dig])\n",
    "    \n",
    "    minimo_dist = np.min(dist_min_digito)\n",
    "    digito_reconhecido = dist_min_digito.index(minimo_dist)\n",
    "    \n",
    "    return digito_reconhecido, minimo_dist"
   ]
  },
  {
   "cell_type": "code",
   "execution_count": 505,
   "metadata": {},
   "outputs": [],
   "source": [
    "# results_euclidiana_imagens = [] # cada valor indica a label da imagem no índice i\n",
    "# dists_euclidiana_test = [] # distância obtida para cada imagem, do seu correspondente dígito selecionado\n",
    "\n",
    "# # nº de casos em que o dígito previsto é equivalente ao verdadeiro dígito da imagem\n",
    "# positives_euclidiana = [0,0,0,0,0,0,0,0,0,0]\n",
    "\n",
    "# # CUIDADO: esta parte do código demorar aproximadamente 50 minutos para ser executado na sua totalidade\n",
    "# for i in range(0,10000):\n",
    "#     imagem = gamma[i]\n",
    "#     label = label_test_array[i]\n",
    "    \n",
    "#     digito_reconhecido, minimo_dist = testar_imagem_euclidiana(imagem)\n",
    "    \n",
    "#     results_euclidiana_imagens.append(digito_reconhecido)\n",
    "    \n",
    "#     # verificar se o dígito reconhecido é igual ao esperado\n",
    "#     if digito_reconhecido == label:\n",
    "#         positives_euclidiana[label] = positives_euclidiana[label] + 1\n",
    "#         dists_euclidiana_test.append(minimo_dist)\n",
    "\n",
    "# print(\"Terminados os testes às 10000 imagens!\")"
   ]
  },
  {
   "cell_type": "markdown",
   "metadata": {},
   "source": [
    "- Cálculo da Accuracy (resultados obtidos com a distância euclidiana)"
   ]
  },
  {
   "cell_type": "code",
   "execution_count": 506,
   "metadata": {},
   "outputs": [],
   "source": [
    "# accuracy_euclidiana = sum(positives_euclidiana) / 10000    # total das 10000 imagens testadas\n",
    "# accuracy_euclidiana"
   ]
  },
  {
   "cell_type": "markdown",
   "metadata": {},
   "source": [
    "Agora a accuracy para cada um dos dígitos"
   ]
  },
  {
   "cell_type": "code",
   "execution_count": 507,
   "metadata": {},
   "outputs": [],
   "source": [
    "# accuracy_euclidiana_digito = []\n",
    "\n",
    "# for i in range(0,10):\n",
    "#     acc = positives_euclidiana[i] / number_labels[i]\n",
    "#     accuracy_euclidiana_digito.append(acc)\n",
    "\n",
    "# accuracy_euclidiana_digito"
   ]
  },
  {
   "cell_type": "markdown",
   "metadata": {},
   "source": [
    "Distância de Mahalanobis, também conhecida por Distância Euclidiana PONDERADA, onde as distâncias são \"corrigidas\" pela soma da divisão dos valores próprios da espaço do dígito que está a testar atualmente. Deste modo, temos a certeza que estamos a comparar distância numa dimensão correta."
   ]
  },
  {
   "cell_type": "markdown",
   "metadata": {},
   "source": [
    "### Testes - Distância Mahalanobis"
   ]
  },
  {
   "cell_type": "code",
   "execution_count": 508,
   "metadata": {},
   "outputs": [],
   "source": [
    "# devolve o dígito reconhecido pela imagem, comparando com todas as distâncias das projeções para os 10 digítos possíveis\n",
    "def testar_imagem_mahalanobis(imagem):\n",
    "    dist_min_digito = [0,0,0,0,0,0,0,0,0,0]\n",
    "    for dig in range(0,10):\n",
    "        test_phi = imagem - media_digito[dig] # Centralizar os dados de gamma\n",
    "    \n",
    "        # Calcular os coeficientes de projeção \n",
    "        test_coef_proj = np.dot(test_phi, vet_prop_digito[dig])\n",
    "        \n",
    "        dist_min_digito[dig] = dist_min_mahalanobis(test_coef_proj, val_prop_digito[dig], len(coef_proj[dig]), coef_proj[dig], k_digito[dig])\n",
    "    \n",
    "    minimo_dist = np.min(dist_min_digito)\n",
    "    digito_reconhecido = dist_min_digito.index(minimo_dist)\n",
    "    \n",
    "    return digito_reconhecido, minimo_dist"
   ]
  },
  {
   "cell_type": "code",
   "execution_count": 509,
   "metadata": {},
   "outputs": [],
   "source": [
    "# results_mahalanobis_imagens = [] # cada valor indica a label da imagem no índice i\n",
    "# dists_mahalanobis_test = [] # distância obtida para cada imagem, do seu correspondente dígito selecionado\n",
    "\n",
    "# # nº de casos em que o dígito previsto é equivalente ao verdadeiro dígito da imagem\n",
    "# positives_mahalanobis = [0,0,0,0,0,0,0,0,0,0]\n",
    "\n",
    "# # CUIDADO: esta parte do código demora aproximadamente 50 minutos para ser executado na sua totalidade\n",
    "# for i in range(0,10000):\n",
    "#     print(str(i))\n",
    "#     imagem = gamma[i]\n",
    "#     label = label_test_array[i]\n",
    "    \n",
    "#     digito_reconhecido, minimo_dist = testar_imagem_mahalanobis(imagem)\n",
    "    \n",
    "#     results_mahalanobis_imagens.append(digito_reconhecido)\n",
    "    \n",
    "#     # verificar se o dígito reconhecido é igual ao esperado\n",
    "#     if digito_reconhecido == label:\n",
    "#         positives_mahalanobis[label] = positives_mahalanobis[label] + 1\n",
    "#         dists_mahalanobis_test.append(minimo_dist)\n",
    "\n",
    "# print(\"Terminado os testes às 10000 imagens!\")"
   ]
  },
  {
   "cell_type": "markdown",
   "metadata": {},
   "source": [
    "- Cálculo da Accuracy (resultados obtidos com a distância mahalanobis)"
   ]
  },
  {
   "cell_type": "code",
   "execution_count": 510,
   "metadata": {},
   "outputs": [],
   "source": [
    "# accuracy_mahalanobis = sum(positives_mahalanobis) / 10000    # total de 10000 imagens testadas\n",
    "# accuracy_mahalanobis"
   ]
  },
  {
   "cell_type": "markdown",
   "metadata": {},
   "source": [
    "Agora a accuracy para cada um dos dígitos"
   ]
  },
  {
   "cell_type": "code",
   "execution_count": 511,
   "metadata": {},
   "outputs": [],
   "source": [
    "# accuracy_mahalanobis_digito = []\n",
    "\n",
    "# for i in range(0,10):\n",
    "#     acc = positives_mahalanobis[i] / number_labels[i]\n",
    "#     accuracy_mahalanobis_digito.append(acc)\n",
    "\n",
    "# accuracy_mahalanobis_digito"
   ]
  },
  {
   "cell_type": "markdown",
   "metadata": {},
   "source": [
    "A distância de Mahalanobis foi a que conseguiu reconhecer com maior precisão os dígitos nas imagens de teste."
   ]
  },
  {
   "cell_type": "markdown",
   "metadata": {},
   "source": [
    "__Reflexão__: A técnica apresentada é apenas uma das maneiras para o reconhecimento de dígitos. A utilização de um limite de similaridade poderia aumentar a accuracy dos resultados, mas a determinação desse limite exige muitos testes e que podem demorar tempo a ser concluídos, nomeadamente num dataset relativamente grande como o do MNIST.\n",
    "Outras opções incluem a utilização do PCA juntamente com um algoritmo de clustering, como o do K-means."
   ]
  },
  {
   "cell_type": "markdown",
   "metadata": {},
   "source": [
    "### Visualização e Comparação de imagens que o modelo construído não conseguiu reconhecer o dígito"
   ]
  },
  {
   "cell_type": "markdown",
   "metadata": {},
   "source": [
    "##### Para os casos da distância Euclidiana"
   ]
  },
  {
   "cell_type": "code",
   "execution_count": 512,
   "metadata": {},
   "outputs": [],
   "source": [
    "# indexes_test_wrong_euclidiana = []\n",
    "\n",
    "# for l in range(0,10000):\n",
    "#     if results_euclidiana_imagens[l] != label_test_array[l]:\n",
    "#         indexes_test_wrong_euclidiana.append(l)"
   ]
  },
  {
   "cell_type": "code",
   "execution_count": 513,
   "metadata": {},
   "outputs": [],
   "source": [
    "# indexes_test_wrong_euclidiana"
   ]
  },
  {
   "cell_type": "code",
   "execution_count": 514,
   "metadata": {},
   "outputs": [],
   "source": [
    "# plt.imshow(np.reshape(gamma[indexes_test_wrong_euclidiana[0]], (28,28)), cmap=plt.cm.binary)"
   ]
  },
  {
   "cell_type": "code",
   "execution_count": 515,
   "metadata": {},
   "outputs": [],
   "source": [
    "# label_test_array[indexes_test_wrong_euclidiana[0]]"
   ]
  },
  {
   "cell_type": "code",
   "execution_count": 516,
   "metadata": {},
   "outputs": [],
   "source": [
    "# results_euclidiana_imagens[indexes_test_wrong_euclidiana[0]]"
   ]
  },
  {
   "cell_type": "markdown",
   "metadata": {},
   "source": [
    "------------------------------------------------"
   ]
  },
  {
   "cell_type": "code",
   "execution_count": 517,
   "metadata": {},
   "outputs": [],
   "source": [
    "# plt.imshow(np.reshape(gamma[indexes_test_wrong_euclidiana[1]], (28,28)), cmap=plt.cm.binary)"
   ]
  },
  {
   "cell_type": "code",
   "execution_count": 518,
   "metadata": {},
   "outputs": [],
   "source": [
    "# label_test_array[indexes_test_wrong_euclidiana[1]]"
   ]
  },
  {
   "cell_type": "code",
   "execution_count": 519,
   "metadata": {},
   "outputs": [],
   "source": [
    "# results_euclidiana_imagens[indexes_test_wrong_euclidiana[1]]"
   ]
  },
  {
   "cell_type": "markdown",
   "metadata": {},
   "source": [
    "##### Para os casos da distância de Mahalanobis"
   ]
  },
  {
   "cell_type": "code",
   "execution_count": 520,
   "metadata": {},
   "outputs": [],
   "source": [
    "# indexes_test_wrong_mahalanobis = []\n",
    "\n",
    "# for l in range(0,10000):\n",
    "#     if results_mahalanobis_imagens[l] != label_test_array[l]:\n",
    "#         indexes_test_wrong_mahalanobis.append(l)"
   ]
  },
  {
   "cell_type": "code",
   "execution_count": 521,
   "metadata": {},
   "outputs": [],
   "source": [
    "# indexes_test_wrong_mahalanobis"
   ]
  },
  {
   "cell_type": "code",
   "execution_count": 522,
   "metadata": {},
   "outputs": [],
   "source": [
    "# plt.imshow(np.reshape(gamma[indexes_test_wrong_mahalanobis[0]], (28,28)), cmap=plt.cm.binary)"
   ]
  },
  {
   "cell_type": "code",
   "execution_count": 523,
   "metadata": {},
   "outputs": [],
   "source": [
    "# label_test_array[indexes_test_wrong_mahalanobis[0]]"
   ]
  },
  {
   "cell_type": "code",
   "execution_count": 524,
   "metadata": {},
   "outputs": [],
   "source": [
    "# results_mahalanobis_imagens[indexes_test_wrong_mahalanobis[0]]"
   ]
  },
  {
   "cell_type": "markdown",
   "metadata": {},
   "source": [
    "------------------------------------------------"
   ]
  },
  {
   "cell_type": "code",
   "execution_count": 525,
   "metadata": {},
   "outputs": [],
   "source": [
    "# plt.imshow(np.reshape(gamma[indexes_test_wrong_mahalanobis[1]], (28,28)), cmap=plt.cm.binary)"
   ]
  },
  {
   "cell_type": "code",
   "execution_count": 526,
   "metadata": {},
   "outputs": [],
   "source": [
    "# label_test_array[indexes_test_wrong_mahalanobis[1]]"
   ]
  },
  {
   "cell_type": "code",
   "execution_count": 527,
   "metadata": {},
   "outputs": [],
   "source": [
    "# results_mahalanobis_imagens[indexes_test_wrong_mahalanobis[1]]"
   ]
  },
  {
   "cell_type": "code",
   "execution_count": 531,
   "metadata": {},
   "outputs": [
    {
     "data": {
      "image/png": "[encoded data removed]",
      "text/plain": [
       "<Figure size 640x480 with 1 Axes>"
      ]
     },
     "metadata": {},
     "output_type": "display_data"
    }
   ],
   "source": [
    "from PIL import Image\n",
    "\n",
    "image_path = 'image1.png'\n",
    "imagem = Image.open(image_path)\n",
    "imagem = Image.eval(imagem, lambda x: 255 - x) # Inveter as cores (estava ficando com fundo preto)\n",
    "imagem = imagem.convert('L') # Implementar escala cinza (igual no dataset MNIST)\n",
    "imagem_redimensionada = imagem.resize((28, 28)) # Redimensiona para (28,28) igual ao dataset\n",
    "imagem_array = np.array(imagem_redimensionada)\n",
    "\n",
    "imagem_para_teste = imagem_array.flatten()\n",
    "previsao_euclidiana = str(testar_imagem_euclidiana(imagem_para_teste)[0])\n",
    "previsao_mahalanobis = str(testar_imagem_mahalanobis(imagem_para_teste)[0])\n",
    "\n",
    "plt.imshow(imagem_array, cmap='gray')\n",
    "plt.title(f'Previsão Euclidiana: {previsao_euclidiana}; Mahalanobis: {previsao_mahalanobis}')\n",
    "plt.show()"
   ]
  },
  {
   "cell_type": "code",
   "execution_count": 535,
   "metadata": {},
   "outputs": [
    {
     "data": {
      "image/png": "[encoded data removed]",
      "text/plain": [
       "<Figure size 640x480 with 1 Axes>"
      ]
     },
     "metadata": {},
     "output_type": "display_data"
    },
    {
     "data": {
      "image/png": "[encoded data removed]",
      "text/plain": [
       "<Figure size 640x480 with 1 Axes>"
      ]
     },
     "metadata": {},
     "output_type": "display_data"
    },
    {
     "data": {
      "image/png": "[encoded data removed]",
      "text/plain": [
       "<Figure size 640x480 with 1 Axes>"
      ]
     },
     "metadata": {},
     "output_type": "display_data"
    },
    {
     "data": {
      "image/png": "[encoded data removed]",
      "text/plain": [
       "<Figure size 640x480 with 1 Axes>"
      ]
     },
     "metadata": {},
     "output_type": "display_data"
    },
    {
     "data": {
      "image/png": "[encoded data removed]",
      "text/plain": [
       "<Figure size 640x480 with 1 Axes>"
      ]
     },
     "metadata": {},
     "output_type": "display_data"
    },
    {
     "data": {
      "image/png": "[encoded data removed]",
      "text/plain": [
       "<Figure size 640x480 with 1 Axes>"
      ]
     },
     "metadata": {},
     "output_type": "display_data"
    }
   ],
   "source": [
    "import os\n",
    "from PIL import Image\n",
    "\n",
    "for i in range(0, 10):\n",
    "    image_path = 'image'+str(i)+'.png'\n",
    "    if os.path.exists(image_path):\n",
    "        imagem = Image.open(image_path)\n",
    "        imagem = Image.eval(imagem, lambda x: 255 - x) # Inveter as cores (estava ficando com fundo preto)\n",
    "        imagem = imagem.convert('L') # Implementar escala cinza (igual no dataset MNIST)\n",
    "        imagem_redimensionada = imagem.resize((28, 28)) # Redimensiona para (28,28) igual ao dataset\n",
    "        imagem_array = np.array(imagem_redimensionada)\n",
    "\n",
    "        imagem_para_teste = imagem_array.flatten()\n",
    "        previsao_euclidiana = str(testar_imagem_euclidiana(imagem_para_teste)[0])\n",
    "        previsao_mahalanobis = str(testar_imagem_mahalanobis(imagem_para_teste)[0])\n",
    "\n",
    "        plt.imshow(imagem_array, cmap=plt.cm.binary)\n",
    "        plt.title(f'Euclidiana: {previsao_euclidiana}; Mahalanobis: {previsao_mahalanobis}')\n",
    "        plt.show()"
   ]
  }
 ],
 "metadata": {
  "kernelspec": {
   "display_name": "Python 3 (ipykernel)",
   "language": "python",
   "name": "python3"
  },
  "language_info": {
   "codemirror_mode": {
    "name": "ipython",
    "version": 3
   },
   "file_extension": ".py",
   "mimetype": "text/x-python",
   "name": "python",
   "nbconvert_exporter": "python",
   "pygments_lexer": "ipython3",
   "version": "3.9.13"
  }
 },
 "nbformat": 4,
 "nbformat_minor": 2
}
