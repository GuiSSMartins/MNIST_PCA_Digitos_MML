{
 "cells": [
  {
   "cell_type": "markdown",
   "metadata": {},
   "source": [
    "### Só para adicionar os dados"
   ]
  },
  {
   "cell_type": "code",
   "execution_count": 1,
   "metadata": {
    "scrolled": true
   },
   "outputs": [
    {
     "name": "stdout",
     "output_type": "stream",
     "text": [
      "5\n"
     ]
    },
    {
     "data": {
      "image/png": "[encoded data removed]",
      "text/plain": [
       "<Figure size 432x288 with 1 Axes>"
      ]
     },
     "metadata": {
      "needs_background": "light"
     },
     "output_type": "display_data"
    }
   ],
   "source": [
    "import numpy as np\n",
    "import idx2numpy\n",
    "import matplotlib.pyplot as plt\n",
    "\n",
    "imagefile = 'mnist_database/train-images.idx3-ubyte'\n",
    "imagearray = idx2numpy.convert_from_file(imagefile)\n",
    "size = len(imagearray)\n",
    "\n",
    "#print(imagearray[100])\n",
    "\n",
    "# apenas um exemplo\n",
    "plt.imshow(imagearray[100], cmap=plt.cm.binary)\n",
    "\n",
    "labelfile = 'mnist_database/train-labels.idx1-ubyte'\n",
    "labelarray = idx2numpy.convert_from_file(labelfile)\n",
    "\n",
    "print(labelarray[100])"
   ]
  },
  {
   "cell_type": "code",
   "execution_count": 2,
   "metadata": {},
   "outputs": [],
   "source": [
    "import math\n",
    "\n",
    "# Distancia euclidiana\n",
    "def euclidian(x, y):\n",
    "    if x.size != y.size:\n",
    "        return (-1)\n",
    "    z = y - x\n",
    "    distance = math.sqrt(sum(z**2))\n",
    "    return distance\n",
    "\n",
    "# Distance de Mahalanobis\n",
    "def mahalanobis(x, y, eigenvalues, k):\n",
    "    if len(x[0]) != len(y):\n",
    "        return (-1) \n",
    "    N = len(x)\n",
    "    distance =[]\n",
    "    for i in range(N):\n",
    "        distance.append(np.sum(np.divide((x[i]-y)**2, eigenvalues[:k]))) \n",
    "    return distance"
   ]
  },
  {
   "cell_type": "code",
   "execution_count": 3,
   "metadata": {},
   "outputs": [
    {
     "name": "stdout",
     "output_type": "stream",
     "text": [
      "Número de vetores próprios a usar: 26\n"
     ]
    },
    {
     "data": {
      "text/plain": [
       "array([[[1.21761918e+05, 5.88017079e+04, 4.18141812e+04, ...,\n",
       "         9.55016459e-28, 9.55016459e-28, 1.55178476e-36],\n",
       "        [2.05605948e+06, 9.40400612e+05, 5.27232868e+05, ...,\n",
       "         1.93612662e-26, 1.93612662e-26, 8.93872540e-34],\n",
       "        [1.31342976e+07, 7.48261636e+06, 5.88466856e+06, ...,\n",
       "         1.12181043e-25, 1.12181043e-25, 3.40713122e-32],\n",
       "        ...,\n",
       "        [5.38161475e+07, 3.63166057e+07, 2.88100226e+07, ...,\n",
       "         4.63033556e-25, 4.63033556e-25, 1.24947970e-30],\n",
       "        [8.54389793e+06, 4.81901580e+06, 3.74071401e+06, ...,\n",
       "         7.37108266e-26, 7.37108266e-26, 1.09777803e-32],\n",
       "        [4.30571341e+05, 3.29559727e+05, 2.28888453e+05, ...,\n",
       "         3.63791632e-27, 3.63791632e-27, 3.82514243e-34]],\n",
       "\n",
       "       [[1.21761918e+05, 5.88017079e+04, 4.18141812e+04, ...,\n",
       "         9.55016459e-28, 9.55016459e-28, 1.55178476e-36],\n",
       "        [2.05605948e+06, 9.40400612e+05, 5.27232868e+05, ...,\n",
       "         1.93612662e-26, 1.93612662e-26, 8.93872540e-34],\n",
       "        [1.31342976e+07, 7.48261636e+06, 5.88466856e+06, ...,\n",
       "         1.12181043e-25, 1.12181043e-25, 3.40713122e-32],\n",
       "        ...,\n",
       "        [5.38161475e+07, 3.63166057e+07, 2.88100226e+07, ...,\n",
       "         4.63033556e-25, 4.63033556e-25, 1.24947970e-30],\n",
       "        [8.54389793e+06, 4.81901580e+06, 3.74071401e+06, ...,\n",
       "         7.37108266e-26, 7.37108266e-26, 1.09777803e-32],\n",
       "        [4.30571341e+05, 3.29559727e+05, 2.28888453e+05, ...,\n",
       "         3.63791632e-27, 3.63791632e-27, 3.82514243e-34]],\n",
       "\n",
       "       [[1.21761918e+05, 5.88017079e+04, 4.18141812e+04, ...,\n",
       "         9.55016459e-28, 9.55016459e-28, 1.55178476e-36],\n",
       "        [2.05605948e+06, 9.40400612e+05, 5.27232868e+05, ...,\n",
       "         1.93612662e-26, 1.93612662e-26, 8.93872540e-34],\n",
       "        [1.31342976e+07, 7.48261636e+06, 5.88466856e+06, ...,\n",
       "         1.12181043e-25, 1.12181043e-25, 3.40713122e-32],\n",
       "        ...,\n",
       "        [5.38161475e+07, 3.63166057e+07, 2.88100226e+07, ...,\n",
       "         4.63033556e-25, 4.63033556e-25, 1.24947970e-30],\n",
       "        [8.54389793e+06, 4.81901580e+06, 3.74071401e+06, ...,\n",
       "         7.37108266e-26, 7.37108266e-26, 1.09777803e-32],\n",
       "        [4.30571341e+05, 3.29559727e+05, 2.28888453e+05, ...,\n",
       "         3.63791632e-27, 3.63791632e-27, 3.82514243e-34]],\n",
       "\n",
       "       ...,\n",
       "\n",
       "       [[1.21761918e+05, 5.88017079e+04, 4.18141812e+04, ...,\n",
       "         9.55016459e-28, 9.55016459e-28, 1.55178476e-36],\n",
       "        [2.05605948e+06, 9.40400612e+05, 5.27232868e+05, ...,\n",
       "         1.93612662e-26, 1.93612662e-26, 8.93872540e-34],\n",
       "        [1.31342976e+07, 7.48261636e+06, 5.88466856e+06, ...,\n",
       "         1.12181043e-25, 1.12181043e-25, 3.40713122e-32],\n",
       "        ...,\n",
       "        [5.38161475e+07, 3.63166057e+07, 2.88100226e+07, ...,\n",
       "         4.63033556e-25, 4.63033556e-25, 1.24947970e-30],\n",
       "        [8.54389793e+06, 4.81901580e+06, 3.74071401e+06, ...,\n",
       "         7.37108266e-26, 7.37108266e-26, 1.09777803e-32],\n",
       "        [4.30571341e+05, 3.29559727e+05, 2.28888453e+05, ...,\n",
       "         3.63791632e-27, 3.63791632e-27, 3.82514243e-34]],\n",
       "\n",
       "       [[1.21761918e+05, 5.88017079e+04, 4.18141812e+04, ...,\n",
       "         9.55016459e-28, 9.55016459e-28, 1.55178476e-36],\n",
       "        [2.05605948e+06, 9.40400612e+05, 5.27232868e+05, ...,\n",
       "         1.93612662e-26, 1.93612662e-26, 8.93872540e-34],\n",
       "        [1.31342976e+07, 7.48261636e+06, 5.88466856e+06, ...,\n",
       "         1.12181043e-25, 1.12181043e-25, 3.40713122e-32],\n",
       "        ...,\n",
       "        [5.38161475e+07, 3.63166057e+07, 2.88100226e+07, ...,\n",
       "         4.63033556e-25, 4.63033556e-25, 1.24947970e-30],\n",
       "        [8.54389793e+06, 4.81901580e+06, 3.74071401e+06, ...,\n",
       "         7.37108266e-26, 7.37108266e-26, 1.09777803e-32],\n",
       "        [4.30571341e+05, 3.29559727e+05, 2.28888453e+05, ...,\n",
       "         3.63791632e-27, 3.63791632e-27, 3.82514243e-34]],\n",
       "\n",
       "       [[1.21761918e+05, 5.88017079e+04, 4.18141812e+04, ...,\n",
       "         9.55016459e-28, 9.55016459e-28, 1.55178476e-36],\n",
       "        [2.05605948e+06, 9.40400612e+05, 5.27232868e+05, ...,\n",
       "         1.93612662e-26, 1.93612662e-26, 8.93872540e-34],\n",
       "        [1.31342976e+07, 7.48261636e+06, 5.88466856e+06, ...,\n",
       "         1.12181043e-25, 1.12181043e-25, 3.40713122e-32],\n",
       "        ...,\n",
       "        [5.38161475e+07, 3.63166057e+07, 2.88100226e+07, ...,\n",
       "         4.63033556e-25, 4.63033556e-25, 1.24947970e-30],\n",
       "        [8.54389793e+06, 4.81901580e+06, 3.74071401e+06, ...,\n",
       "         7.37108266e-26, 7.37108266e-26, 1.09777803e-32],\n",
       "        [4.30571341e+05, 3.29559727e+05, 2.28888453e+05, ...,\n",
       "         3.63791632e-27, 3.63791632e-27, 3.82514243e-34]]])"
      ]
     },
     "execution_count": 3,
     "metadata": {},
     "output_type": "execute_result"
    }
   ],
   "source": [
    "# PCA\n",
    "def pca(X, confidence=0.9):\n",
    "    # Media\n",
    "    mean = np.mean(X,0)\n",
    "    \n",
    "    # Centralizar os dados\n",
    "    phi = X - mean\n",
    "    \n",
    "    # Calcular os vetores e valores proprios atraves do SVD\n",
    "    eigenvectors, sigma, variance = np.linalg.svd(phi.transpose(), full_matrices=False)\n",
    "    eigenvalues = sigma*sigma\n",
    "    \n",
    "    # Ordenar valores próprios por ordem Decrescente\n",
    "    idx = np.argsort(-eigenvalues)\n",
    "    eigenvalues = eigenvalues[idx]\n",
    "    eigenvectors = eigenvectors[:,idx]\n",
    "    \n",
    "    # Determinar o nº de vetores próprios a usar\n",
    "    k = 0\n",
    "    traco = np.sum(eigenvalues)\n",
    "    while(np.sum(eigenvalues[:k])/traco < confidence):\n",
    "        k = k+1\n",
    "    print(\"Número de vetores próprios a usar: \" + str(k))\n",
    "    \n",
    "    # Escolher os vetores próprios associados\n",
    "    eigenvectors = eigenvectors[:,0:k]\n",
    "    return k, eigenvalues, eigenvectors, phi, mean, variance\n",
    "\n",
    "# Calculo dos coeficientes da projecao\n",
    "def coefProj(phi, eigenvectors, size):\n",
    "    coef_proj = [np.dot(phi[i], eigenvectors) for i in range(size)]\n",
    "    return coef_proj\n",
    "\n",
    "# Obter os vetores próprios de acordo com um certo nivel de confianca\n",
    "k, eigenvalues, eigenvectors, phi, mean, variance = pca(imagearray, 0.9)\n",
    "eigenvalues"
   ]
  },
  {
   "cell_type": "code",
   "execution_count": 8,
   "metadata": {},
   "outputs": [
    {
     "ename": "KeyboardInterrupt",
     "evalue": "",
     "output_type": "error",
     "traceback": [
      "\u001b[1;31m---------------------------------------------------------------------------\u001b[0m",
      "\u001b[1;31mKeyboardInterrupt\u001b[0m                         Traceback (most recent call last)",
      "Input \u001b[1;32mIn [8]\u001b[0m, in \u001b[0;36m<cell line: 2>\u001b[1;34m()\u001b[0m\n\u001b[0;32m      1\u001b[0m \u001b[38;5;66;03m# Obter os coeficientes das projecoes\u001b[39;00m\n\u001b[1;32m----> 2\u001b[0m coef_proj \u001b[38;5;241m=\u001b[39m \u001b[43mcoefProj\u001b[49m\u001b[43m(\u001b[49m\u001b[43mphi\u001b[49m\u001b[43m,\u001b[49m\u001b[43m \u001b[49m\u001b[43meigenvectors\u001b[49m\u001b[43m,\u001b[49m\u001b[43m \u001b[49m\u001b[43mimagearray\u001b[49m\u001b[38;5;241;43m.\u001b[39;49m\u001b[43mshape\u001b[49m\u001b[43m[\u001b[49m\u001b[38;5;241;43m0\u001b[39;49m\u001b[43m]\u001b[49m\u001b[43m)\u001b[49m\n\u001b[0;32m      3\u001b[0m coef_proj\n",
      "Input \u001b[1;32mIn [3]\u001b[0m, in \u001b[0;36mcoefProj\u001b[1;34m(phi, eigenvectors, size)\u001b[0m\n\u001b[0;32m     30\u001b[0m \u001b[38;5;28;01mdef\u001b[39;00m \u001b[38;5;21mcoefProj\u001b[39m(phi, eigenvectors, size):\n\u001b[1;32m---> 31\u001b[0m     coef_proj \u001b[38;5;241m=\u001b[39m [np\u001b[38;5;241m.\u001b[39mdot(phi[i], eigenvectors) \u001b[38;5;28;01mfor\u001b[39;00m i \u001b[38;5;129;01min\u001b[39;00m \u001b[38;5;28mrange\u001b[39m(size)]\n\u001b[0;32m     32\u001b[0m     \u001b[38;5;28;01mreturn\u001b[39;00m coef_proj\n",
      "Input \u001b[1;32mIn [3]\u001b[0m, in \u001b[0;36m<listcomp>\u001b[1;34m(.0)\u001b[0m\n\u001b[0;32m     30\u001b[0m \u001b[38;5;28;01mdef\u001b[39;00m \u001b[38;5;21mcoefProj\u001b[39m(phi, eigenvectors, size):\n\u001b[1;32m---> 31\u001b[0m     coef_proj \u001b[38;5;241m=\u001b[39m [\u001b[43mnp\u001b[49m\u001b[38;5;241;43m.\u001b[39;49m\u001b[43mdot\u001b[49m\u001b[43m(\u001b[49m\u001b[43mphi\u001b[49m\u001b[43m[\u001b[49m\u001b[43mi\u001b[49m\u001b[43m]\u001b[49m\u001b[43m,\u001b[49m\u001b[43m \u001b[49m\u001b[43meigenvectors\u001b[49m\u001b[43m)\u001b[49m \u001b[38;5;28;01mfor\u001b[39;00m i \u001b[38;5;129;01min\u001b[39;00m \u001b[38;5;28mrange\u001b[39m(size)]\n\u001b[0;32m     32\u001b[0m     \u001b[38;5;28;01mreturn\u001b[39;00m coef_proj\n",
      "File \u001b[1;32m<__array_function__ internals>:180\u001b[0m, in \u001b[0;36mdot\u001b[1;34m(*args, **kwargs)\u001b[0m\n",
      "\u001b[1;31mKeyboardInterrupt\u001b[0m: "
     ]
    }
   ],
   "source": [
    "# Obter os coeficientes das projecoes\n",
    "coef_proj = coefProj(phi, eigenvectors, imagearray.shape[0])\n",
    "coef_proj"
   ]
  },
  {
   "cell_type": "code",
   "execution_count": 5,
   "metadata": {},
   "outputs": [],
   "source": [
    "# Gráfico do cotovelo\n",
    "#plt.figure(figsize=(10,10))\n",
    "#t = np.arange(0, size, 1)\n",
    "#plt.plot(t, eigenvalues, 'x')\n",
    "#plt.plot(k, eigenvalues[k], 'o')\n",
    "#plt.show()"
   ]
  },
  {
   "cell_type": "code",
   "execution_count": 6,
   "metadata": {},
   "outputs": [],
   "source": [
    "# Verificar se identifica ou nao o input\n",
    "def testar(input_img , mean, eigenvectors , eigenvalues , size , coef_proj , distance = \"mahalanobis\"):\n",
    "    \n",
    "    dist = []\n",
    "    \n",
    "    # Centrar o input\n",
    "    test_phi = input_img - mean\n",
    "    \n",
    "    # Calcular os coeficientes da projeccao do input\n",
    "    test_coef_proj = np.dot(test_phi , eigenvectors)\n",
    "    \n",
    "    if distance == \"euclidian\":\n",
    "        #dist = [np.linalg.norm( coef_proj[i] - test_coef_proj ) for i in range (size)]\n",
    "        dist = [euclidian(coef_proj[i], test_coef_proj) for i in range (size)]\n",
    "        d_min = round(np.min(dist),2)\n",
    "        d_max = round(np.max(dist),2)\n",
    "        limit = 14500\n",
    "    elif distance == \"mahalanobis\" :\n",
    "        dist = mahalanobis(coef_proj , test_coef_proj , eigenvalues , eigenvectors.shape [1])\n",
    "        d_min = round(np.min(dist),4)\n",
    "        d_max = round(np.max(dist),4)\n",
    "        limit = 0.09\n",
    "    else: \n",
    "        print(\"Distância invalida.\")\n",
    "        return (-1)\n",
    "    \n",
    "    print('Distância minima: '+ str(d_min))\n",
    "\n",
    "    if d_min < limit:\n",
    "        print('Imagem nr.: '+str(np.argmin(dist)))\n",
    "        return dist, test_coef_proj\n",
    "    else: \n",
    "        print('Falhou no reconhecimento.')\n",
    "        return [],[]"
   ]
  },
  {
   "cell_type": "code",
   "execution_count": 7,
   "metadata": {},
   "outputs": [
    {
     "ename": "ValueError",
     "evalue": "operands could not be broadcast together with shapes (28,28,26,28) (26,28,28) ",
     "output_type": "error",
     "traceback": [
      "\u001b[1;31m---------------------------------------------------------------------------\u001b[0m",
      "\u001b[1;31mValueError\u001b[0m                                Traceback (most recent call last)",
      "Input \u001b[1;32mIn [7]\u001b[0m, in \u001b[0;36m<cell line: 2>\u001b[1;34m()\u001b[0m\n\u001b[0;32m      1\u001b[0m \u001b[38;5;66;03m# Teste\u001b[39;00m\n\u001b[1;32m----> 2\u001b[0m dist, test_coef_proj \u001b[38;5;241m=\u001b[39m \u001b[43mtestar\u001b[49m\u001b[43m(\u001b[49m\u001b[43mimagearray\u001b[49m\u001b[43m[\u001b[49m\u001b[38;5;241;43m100\u001b[39;49m\u001b[43m]\u001b[49m\u001b[43m,\u001b[49m\u001b[43m \u001b[49m\u001b[43mmean\u001b[49m\u001b[43m,\u001b[49m\u001b[43m \u001b[49m\u001b[43meigenvectors\u001b[49m\u001b[43m,\u001b[49m\u001b[43m \u001b[49m\u001b[43meigenvalues\u001b[49m\u001b[43m,\u001b[49m\u001b[43m \u001b[49m\u001b[43mimagearray\u001b[49m\u001b[43m[\u001b[49m\u001b[38;5;241;43m0\u001b[39;49m\u001b[43m]\u001b[49m\u001b[38;5;241;43m.\u001b[39;49m\u001b[43mshape\u001b[49m\u001b[43m[\u001b[49m\u001b[38;5;241;43m0\u001b[39;49m\u001b[43m]\u001b[49m\u001b[43m,\u001b[49m\u001b[43m \u001b[49m\u001b[43mcoef_proj\u001b[49m\u001b[43m,\u001b[49m\u001b[43m \u001b[49m\u001b[38;5;124;43m'\u001b[39;49m\u001b[38;5;124;43mmahalanobis\u001b[39;49m\u001b[38;5;124;43m'\u001b[39;49m\u001b[43m)\u001b[49m\n\u001b[0;32m      3\u001b[0m lista[np\u001b[38;5;241m.\u001b[39margmin(dist)]\n",
      "Input \u001b[1;32mIn [6]\u001b[0m, in \u001b[0;36mtestar\u001b[1;34m(input_img, mean, eigenvectors, eigenvalues, size, coef_proj, distance)\u001b[0m\n\u001b[0;32m     17\u001b[0m     limit \u001b[38;5;241m=\u001b[39m \u001b[38;5;241m14500\u001b[39m\n\u001b[0;32m     18\u001b[0m \u001b[38;5;28;01melif\u001b[39;00m distance \u001b[38;5;241m==\u001b[39m \u001b[38;5;124m\"\u001b[39m\u001b[38;5;124mmahalanobis\u001b[39m\u001b[38;5;124m\"\u001b[39m :\n\u001b[1;32m---> 19\u001b[0m     dist \u001b[38;5;241m=\u001b[39m \u001b[43mmahalanobis\u001b[49m\u001b[43m(\u001b[49m\u001b[43mcoef_proj\u001b[49m\u001b[43m \u001b[49m\u001b[43m,\u001b[49m\u001b[43m \u001b[49m\u001b[43mtest_coef_proj\u001b[49m\u001b[43m \u001b[49m\u001b[43m,\u001b[49m\u001b[43m \u001b[49m\u001b[43meigenvalues\u001b[49m\u001b[43m \u001b[49m\u001b[43m,\u001b[49m\u001b[43m \u001b[49m\u001b[43meigenvectors\u001b[49m\u001b[38;5;241;43m.\u001b[39;49m\u001b[43mshape\u001b[49m\u001b[43m \u001b[49m\u001b[43m[\u001b[49m\u001b[38;5;241;43m1\u001b[39;49m\u001b[43m]\u001b[49m\u001b[43m)\u001b[49m\n\u001b[0;32m     20\u001b[0m     d_min \u001b[38;5;241m=\u001b[39m \u001b[38;5;28mround\u001b[39m(np\u001b[38;5;241m.\u001b[39mmin(dist),\u001b[38;5;241m4\u001b[39m)\n\u001b[0;32m     21\u001b[0m     d_max \u001b[38;5;241m=\u001b[39m \u001b[38;5;28mround\u001b[39m(np\u001b[38;5;241m.\u001b[39mmax(dist),\u001b[38;5;241m4\u001b[39m)\n",
      "Input \u001b[1;32mIn [2]\u001b[0m, in \u001b[0;36mmahalanobis\u001b[1;34m(x, y, eigenvalues, k)\u001b[0m\n\u001b[0;32m     16\u001b[0m distance \u001b[38;5;241m=\u001b[39m[]\n\u001b[0;32m     17\u001b[0m \u001b[38;5;28;01mfor\u001b[39;00m i \u001b[38;5;129;01min\u001b[39;00m \u001b[38;5;28mrange\u001b[39m(N):\n\u001b[1;32m---> 18\u001b[0m     distance\u001b[38;5;241m.\u001b[39mappend(np\u001b[38;5;241m.\u001b[39msum(\u001b[43mnp\u001b[49m\u001b[38;5;241;43m.\u001b[39;49m\u001b[43mdivide\u001b[49m\u001b[43m(\u001b[49m\u001b[43m(\u001b[49m\u001b[43mx\u001b[49m\u001b[43m[\u001b[49m\u001b[43mi\u001b[49m\u001b[43m]\u001b[49m\u001b[38;5;241;43m-\u001b[39;49m\u001b[43my\u001b[49m\u001b[43m)\u001b[49m\u001b[38;5;241;43m*\u001b[39;49m\u001b[38;5;241;43m*\u001b[39;49m\u001b[38;5;241;43m2\u001b[39;49m\u001b[43m,\u001b[49m\u001b[43m \u001b[49m\u001b[43meigenvalues\u001b[49m\u001b[43m[\u001b[49m\u001b[43m:\u001b[49m\u001b[43mk\u001b[49m\u001b[43m]\u001b[49m\u001b[43m)\u001b[49m)) \n\u001b[0;32m     19\u001b[0m \u001b[38;5;28;01mreturn\u001b[39;00m distance\n",
      "\u001b[1;31mValueError\u001b[0m: operands could not be broadcast together with shapes (28,28,26,28) (26,28,28) "
     ]
    }
   ],
   "source": [
    "# Teste\n",
    "dist, test_coef_proj = testar(imagearray[100], mean, eigenvectors, eigenvalues, imagearray[0].shape[0], coef_proj, 'mahalanobis')\n",
    "lista[np.argmin(dist)]"
   ]
  },
  {
   "cell_type": "code",
   "execution_count": null,
   "metadata": {},
   "outputs": [],
   "source": []
  }
 ],
 "metadata": {
  "kernelspec": {
   "display_name": "Python 3 (ipykernel)",
   "language": "python",
   "name": "python3"
  },
  "language_info": {
   "codemirror_mode": {
    "name": "ipython",
    "version": 3
   },
   "file_extension": ".py",
   "mimetype": "text/x-python",
   "name": "python",
   "nbconvert_exporter": "python",
   "pygments_lexer": "ipython3",
   "version": "3.9.13"
  }
 },
 "nbformat": 4,
 "nbformat_minor": 2
}
